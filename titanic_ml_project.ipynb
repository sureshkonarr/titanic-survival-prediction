{
 "cells": [
  {
   "cell_type": "markdown",
   "id": "39d2e23d",
   "metadata": {},
   "source": [
    "# Titanic Passenger Survival Analysis"
   ]
  },
  {
   "cell_type": "code",
   "execution_count": 1,
   "id": "33b2c772",
   "metadata": {},
   "outputs": [
    {
     "data": {
      "text/html": [
       "<img src=\"https://static1.squarespace.com/static/5006453fe4b09ef2252ba068/5095eabce4b06cb305058603/5095eabce4b02d37bef4c24c/1352002236895/100_anniversary_titanic_sinking_by_esai8mellows-d4xbme8.jpg\"/>"
      ],
      "text/plain": [
       "<IPython.core.display.Image object>"
      ]
     },
     "execution_count": 1,
     "metadata": {},
     "output_type": "execute_result"
    }
   ],
   "source": [
    "from IPython.display import Image\n",
    "Image(url= \"https://static1.squarespace.com/static/5006453fe4b09ef2252ba068/5095eabce4b06cb305058603/5095eabce4b02d37bef4c24c/1352002236895/100_anniversary_titanic_sinking_by_esai8mellows-d4xbme8.jpg\")\n"
   ]
  },
  {
   "cell_type": "code",
   "execution_count": 1,
   "id": "c1ab1e8d",
   "metadata": {},
   "outputs": [],
   "source": [
    "#Import libraries\n",
    "import pandas as pd\n",
    "import numpy as np\n",
    "import seaborn as sns\n",
    "import matplotlib.pyplot as plt\n",
    "import warnings\n",
    "from numpy import matmul\n",
    "import os\n",
    "warnings.filterwarnings('ignore')"
   ]
  },
  {
   "cell_type": "code",
   "execution_count": 2,
   "id": "6a9e45ed",
   "metadata": {},
   "outputs": [],
   "source": [
    "#load the dataset\n",
    "dataset = pd.read_csv(r\"C:\\Users\\SURESH\\Desktop\\jupyter\\Project\\train.csv\")"
   ]
  },
  {
   "cell_type": "code",
   "execution_count": 3,
   "id": "2ad2ae79",
   "metadata": {},
   "outputs": [
    {
     "data": {
      "text/html": [
       "<div>\n",
       "<style scoped>\n",
       "    .dataframe tbody tr th:only-of-type {\n",
       "        vertical-align: middle;\n",
       "    }\n",
       "\n",
       "    .dataframe tbody tr th {\n",
       "        vertical-align: top;\n",
       "    }\n",
       "\n",
       "    .dataframe thead th {\n",
       "        text-align: right;\n",
       "    }\n",
       "</style>\n",
       "<table border=\"1\" class=\"dataframe\">\n",
       "  <thead>\n",
       "    <tr style=\"text-align: right;\">\n",
       "      <th></th>\n",
       "      <th>PassengerId</th>\n",
       "      <th>Survived</th>\n",
       "      <th>Pclass</th>\n",
       "      <th>Name</th>\n",
       "      <th>Sex</th>\n",
       "      <th>Age</th>\n",
       "      <th>SibSp</th>\n",
       "      <th>Parch</th>\n",
       "      <th>Ticket</th>\n",
       "      <th>Fare</th>\n",
       "      <th>Cabin</th>\n",
       "      <th>Embarked</th>\n",
       "    </tr>\n",
       "  </thead>\n",
       "  <tbody>\n",
       "    <tr>\n",
       "      <th>0</th>\n",
       "      <td>1</td>\n",
       "      <td>0</td>\n",
       "      <td>3</td>\n",
       "      <td>Braund, Mr. Owen Harris</td>\n",
       "      <td>male</td>\n",
       "      <td>22.0</td>\n",
       "      <td>1</td>\n",
       "      <td>0</td>\n",
       "      <td>A/5 21171</td>\n",
       "      <td>7.2500</td>\n",
       "      <td>NaN</td>\n",
       "      <td>S</td>\n",
       "    </tr>\n",
       "    <tr>\n",
       "      <th>1</th>\n",
       "      <td>2</td>\n",
       "      <td>1</td>\n",
       "      <td>1</td>\n",
       "      <td>Cumings, Mrs. John Bradley (Florence Briggs Th...</td>\n",
       "      <td>female</td>\n",
       "      <td>38.0</td>\n",
       "      <td>1</td>\n",
       "      <td>0</td>\n",
       "      <td>PC 17599</td>\n",
       "      <td>71.2833</td>\n",
       "      <td>C85</td>\n",
       "      <td>C</td>\n",
       "    </tr>\n",
       "    <tr>\n",
       "      <th>2</th>\n",
       "      <td>3</td>\n",
       "      <td>1</td>\n",
       "      <td>3</td>\n",
       "      <td>Heikkinen, Miss. Laina</td>\n",
       "      <td>female</td>\n",
       "      <td>26.0</td>\n",
       "      <td>0</td>\n",
       "      <td>0</td>\n",
       "      <td>STON/O2. 3101282</td>\n",
       "      <td>7.9250</td>\n",
       "      <td>NaN</td>\n",
       "      <td>S</td>\n",
       "    </tr>\n",
       "    <tr>\n",
       "      <th>3</th>\n",
       "      <td>4</td>\n",
       "      <td>1</td>\n",
       "      <td>1</td>\n",
       "      <td>Futrelle, Mrs. Jacques Heath (Lily May Peel)</td>\n",
       "      <td>female</td>\n",
       "      <td>35.0</td>\n",
       "      <td>1</td>\n",
       "      <td>0</td>\n",
       "      <td>113803</td>\n",
       "      <td>53.1000</td>\n",
       "      <td>C123</td>\n",
       "      <td>S</td>\n",
       "    </tr>\n",
       "    <tr>\n",
       "      <th>4</th>\n",
       "      <td>5</td>\n",
       "      <td>0</td>\n",
       "      <td>3</td>\n",
       "      <td>Allen, Mr. William Henry</td>\n",
       "      <td>male</td>\n",
       "      <td>35.0</td>\n",
       "      <td>0</td>\n",
       "      <td>0</td>\n",
       "      <td>373450</td>\n",
       "      <td>8.0500</td>\n",
       "      <td>NaN</td>\n",
       "      <td>S</td>\n",
       "    </tr>\n",
       "  </tbody>\n",
       "</table>\n",
       "</div>"
      ],
      "text/plain": [
       "   PassengerId  Survived  Pclass  \\\n",
       "0            1         0       3   \n",
       "1            2         1       1   \n",
       "2            3         1       3   \n",
       "3            4         1       1   \n",
       "4            5         0       3   \n",
       "\n",
       "                                                Name     Sex   Age  SibSp  \\\n",
       "0                            Braund, Mr. Owen Harris    male  22.0      1   \n",
       "1  Cumings, Mrs. John Bradley (Florence Briggs Th...  female  38.0      1   \n",
       "2                             Heikkinen, Miss. Laina  female  26.0      0   \n",
       "3       Futrelle, Mrs. Jacques Heath (Lily May Peel)  female  35.0      1   \n",
       "4                           Allen, Mr. William Henry    male  35.0      0   \n",
       "\n",
       "   Parch            Ticket     Fare Cabin Embarked  \n",
       "0      0         A/5 21171   7.2500   NaN        S  \n",
       "1      0          PC 17599  71.2833   C85        C  \n",
       "2      0  STON/O2. 3101282   7.9250   NaN        S  \n",
       "3      0            113803  53.1000  C123        S  \n",
       "4      0            373450   8.0500   NaN        S  "
      ]
     },
     "execution_count": 3,
     "metadata": {},
     "output_type": "execute_result"
    }
   ],
   "source": [
    "dataset.head()"
   ]
  },
  {
   "cell_type": "code",
   "execution_count": 4,
   "id": "0c6bc777",
   "metadata": {},
   "outputs": [
    {
     "data": {
      "text/plain": [
       "(891, 12)"
      ]
     },
     "execution_count": 4,
     "metadata": {},
     "output_type": "execute_result"
    }
   ],
   "source": [
    "dataset.shape"
   ]
  },
  {
   "cell_type": "code",
   "execution_count": 5,
   "id": "197b9cad",
   "metadata": {},
   "outputs": [
    {
     "data": {
      "text/html": [
       "<div>\n",
       "<style scoped>\n",
       "    .dataframe tbody tr th:only-of-type {\n",
       "        vertical-align: middle;\n",
       "    }\n",
       "\n",
       "    .dataframe tbody tr th {\n",
       "        vertical-align: top;\n",
       "    }\n",
       "\n",
       "    .dataframe thead th {\n",
       "        text-align: right;\n",
       "    }\n",
       "</style>\n",
       "<table border=\"1\" class=\"dataframe\">\n",
       "  <thead>\n",
       "    <tr style=\"text-align: right;\">\n",
       "      <th></th>\n",
       "      <th>PassengerId</th>\n",
       "      <th>Survived</th>\n",
       "      <th>Pclass</th>\n",
       "      <th>Age</th>\n",
       "      <th>SibSp</th>\n",
       "      <th>Parch</th>\n",
       "      <th>Fare</th>\n",
       "    </tr>\n",
       "  </thead>\n",
       "  <tbody>\n",
       "    <tr>\n",
       "      <th>count</th>\n",
       "      <td>891.000000</td>\n",
       "      <td>891.000000</td>\n",
       "      <td>891.000000</td>\n",
       "      <td>714.000000</td>\n",
       "      <td>891.000000</td>\n",
       "      <td>891.000000</td>\n",
       "      <td>891.000000</td>\n",
       "    </tr>\n",
       "    <tr>\n",
       "      <th>mean</th>\n",
       "      <td>446.000000</td>\n",
       "      <td>0.383838</td>\n",
       "      <td>2.308642</td>\n",
       "      <td>29.699118</td>\n",
       "      <td>0.523008</td>\n",
       "      <td>0.381594</td>\n",
       "      <td>32.204208</td>\n",
       "    </tr>\n",
       "    <tr>\n",
       "      <th>std</th>\n",
       "      <td>257.353842</td>\n",
       "      <td>0.486592</td>\n",
       "      <td>0.836071</td>\n",
       "      <td>14.526497</td>\n",
       "      <td>1.102743</td>\n",
       "      <td>0.806057</td>\n",
       "      <td>49.693429</td>\n",
       "    </tr>\n",
       "    <tr>\n",
       "      <th>min</th>\n",
       "      <td>1.000000</td>\n",
       "      <td>0.000000</td>\n",
       "      <td>1.000000</td>\n",
       "      <td>0.420000</td>\n",
       "      <td>0.000000</td>\n",
       "      <td>0.000000</td>\n",
       "      <td>0.000000</td>\n",
       "    </tr>\n",
       "    <tr>\n",
       "      <th>25%</th>\n",
       "      <td>223.500000</td>\n",
       "      <td>0.000000</td>\n",
       "      <td>2.000000</td>\n",
       "      <td>20.125000</td>\n",
       "      <td>0.000000</td>\n",
       "      <td>0.000000</td>\n",
       "      <td>7.910400</td>\n",
       "    </tr>\n",
       "    <tr>\n",
       "      <th>50%</th>\n",
       "      <td>446.000000</td>\n",
       "      <td>0.000000</td>\n",
       "      <td>3.000000</td>\n",
       "      <td>28.000000</td>\n",
       "      <td>0.000000</td>\n",
       "      <td>0.000000</td>\n",
       "      <td>14.454200</td>\n",
       "    </tr>\n",
       "    <tr>\n",
       "      <th>75%</th>\n",
       "      <td>668.500000</td>\n",
       "      <td>1.000000</td>\n",
       "      <td>3.000000</td>\n",
       "      <td>38.000000</td>\n",
       "      <td>1.000000</td>\n",
       "      <td>0.000000</td>\n",
       "      <td>31.000000</td>\n",
       "    </tr>\n",
       "    <tr>\n",
       "      <th>max</th>\n",
       "      <td>891.000000</td>\n",
       "      <td>1.000000</td>\n",
       "      <td>3.000000</td>\n",
       "      <td>80.000000</td>\n",
       "      <td>8.000000</td>\n",
       "      <td>6.000000</td>\n",
       "      <td>512.329200</td>\n",
       "    </tr>\n",
       "  </tbody>\n",
       "</table>\n",
       "</div>"
      ],
      "text/plain": [
       "       PassengerId    Survived      Pclass         Age       SibSp  \\\n",
       "count   891.000000  891.000000  891.000000  714.000000  891.000000   \n",
       "mean    446.000000    0.383838    2.308642   29.699118    0.523008   \n",
       "std     257.353842    0.486592    0.836071   14.526497    1.102743   \n",
       "min       1.000000    0.000000    1.000000    0.420000    0.000000   \n",
       "25%     223.500000    0.000000    2.000000   20.125000    0.000000   \n",
       "50%     446.000000    0.000000    3.000000   28.000000    0.000000   \n",
       "75%     668.500000    1.000000    3.000000   38.000000    1.000000   \n",
       "max     891.000000    1.000000    3.000000   80.000000    8.000000   \n",
       "\n",
       "            Parch        Fare  \n",
       "count  891.000000  891.000000  \n",
       "mean     0.381594   32.204208  \n",
       "std      0.806057   49.693429  \n",
       "min      0.000000    0.000000  \n",
       "25%      0.000000    7.910400  \n",
       "50%      0.000000   14.454200  \n",
       "75%      0.000000   31.000000  \n",
       "max      6.000000  512.329200  "
      ]
     },
     "execution_count": 5,
     "metadata": {},
     "output_type": "execute_result"
    }
   ],
   "source": [
    "dataset.describe()"
   ]
  },
  {
   "cell_type": "code",
   "execution_count": 6,
   "id": "0406cd18",
   "metadata": {},
   "outputs": [
    {
     "data": {
      "text/plain": [
       "PassengerId      int64\n",
       "Survived         int64\n",
       "Pclass           int64\n",
       "Name            object\n",
       "Sex             object\n",
       "Age            float64\n",
       "SibSp            int64\n",
       "Parch            int64\n",
       "Ticket          object\n",
       "Fare           float64\n",
       "Cabin           object\n",
       "Embarked        object\n",
       "dtype: object"
      ]
     },
     "execution_count": 6,
     "metadata": {},
     "output_type": "execute_result"
    }
   ],
   "source": [
    "dataset.dtypes"
   ]
  },
  {
   "cell_type": "code",
   "execution_count": 7,
   "id": "be81f5d2",
   "metadata": {},
   "outputs": [
    {
     "name": "stdout",
     "output_type": "stream",
     "text": [
      "<class 'pandas.core.frame.DataFrame'>\n",
      "RangeIndex: 891 entries, 0 to 890\n",
      "Data columns (total 12 columns):\n",
      " #   Column       Non-Null Count  Dtype  \n",
      "---  ------       --------------  -----  \n",
      " 0   PassengerId  891 non-null    int64  \n",
      " 1   Survived     891 non-null    int64  \n",
      " 2   Pclass       891 non-null    int64  \n",
      " 3   Name         891 non-null    object \n",
      " 4   Sex          891 non-null    object \n",
      " 5   Age          714 non-null    float64\n",
      " 6   SibSp        891 non-null    int64  \n",
      " 7   Parch        891 non-null    int64  \n",
      " 8   Ticket       891 non-null    object \n",
      " 9   Fare         891 non-null    float64\n",
      " 10  Cabin        204 non-null    object \n",
      " 11  Embarked     889 non-null    object \n",
      "dtypes: float64(2), int64(5), object(5)\n",
      "memory usage: 83.7+ KB\n"
     ]
    }
   ],
   "source": [
    "dataset.info()"
   ]
  },
  {
   "cell_type": "markdown",
   "id": "0eefa31b",
   "metadata": {},
   "source": [
    "# Data visualisation"
   ]
  },
  {
   "cell_type": "code",
   "execution_count": 8,
   "id": "97afaaa1",
   "metadata": {},
   "outputs": [
    {
     "data": {
      "image/png": "[encoded data removed]",
      "text/plain": [
       "<Figure size 720x360 with 2 Axes>"
      ]
     },
     "metadata": {
      "needs_background": "light"
     },
     "output_type": "display_data"
    }
   ],
   "source": [
    "#Survived\n",
    "plt.figure(figsize=(10,5))\n",
    "plt.subplot(121)\n",
    "dataset['Survived'].value_counts().plot.pie(autopct='%0.2f%%')\n",
    "plt.subplot(122)\n",
    "sns.countplot(dataset['Survived'])\n",
    "plt.title('Distribution of Survival')\n",
    "plt.show()"
   ]
  },
  {
   "cell_type": "code",
   "execution_count": 9,
   "id": "5207a7d3",
   "metadata": {},
   "outputs": [
    {
     "data": {
      "image/png": "[encoded data removed]",
      "text/plain": [
       "<Figure size 720x360 with 2 Axes>"
      ]
     },
     "metadata": {
      "needs_background": "light"
     },
     "output_type": "display_data"
    }
   ],
   "source": [
    "#Embarked\n",
    "plt.figure(figsize=(10,5))\n",
    "plt.subplot(121)\n",
    "dataset['Embarked'].value_counts().plot.pie(autopct='%0.2f%%')\n",
    "plt.subplot(122)\n",
    "sns.countplot(x = 'Survived',data = dataset,hue = 'Embarked')\n",
    "plt.title('Distribution of Survival based on Passenger Embarkment')\n",
    "plt.xlabel('Survived')\n",
    "plt.ylabel('Number of Passengers')\n",
    "plt.legend()\n",
    "plt.show()"
   ]
  },
  {
   "cell_type": "code",
   "execution_count": 10,
   "id": "62f10163",
   "metadata": {},
   "outputs": [
    {
     "data": {
      "image/png": "[encoded data removed]",
      "text/plain": [
       "<Figure size 720x360 with 2 Axes>"
      ]
     },
     "metadata": {
      "needs_background": "light"
     },
     "output_type": "display_data"
    }
   ],
   "source": [
    "#Pclass\n",
    "plt.figure(figsize=(10,5))\n",
    "plt.subplot(121)\n",
    "dataset['Pclass'].value_counts().plot.pie(autopct='%0.2f%%')\n",
    "plt.subplot(122)\n",
    "sns.countplot(x='Survived', data = dataset, hue='Pclass')\n",
    "plt.title('Distribution of Survival based on Passenger Economic class')\n",
    "plt.xlabel('Survived')\n",
    "plt.ylabel('Number of Passengers')\n",
    "plt.legend()\n",
    "plt.show()"
   ]
  },
  {
   "cell_type": "code",
   "execution_count": 11,
   "id": "0c506322",
   "metadata": {},
   "outputs": [
    {
     "data": {
      "image/png": "[encoded data removed]",
      "text/plain": [
       "<Figure size 720x360 with 2 Axes>"
      ]
     },
     "metadata": {
      "needs_background": "light"
     },
     "output_type": "display_data"
    }
   ],
   "source": [
    "#Sex\n",
    "plt.figure(figsize=(10,5))\n",
    "plt.subplot(121)\n",
    "dataset['Sex'].value_counts().plot.pie(autopct='%0.2f%%')\n",
    "plt.subplot(122)\n",
    "sns.countplot(x='Survived', data = dataset, hue='Sex')\n",
    "plt.title('Distribution of Survival based on Sex')\n",
    "plt.xlabel('Survived')\n",
    "plt.ylabel('Number of Passengers')\n",
    "plt.legend()\n",
    "plt.show()"
   ]
  },
  {
   "cell_type": "code",
   "execution_count": 12,
   "id": "2677defb",
   "metadata": {},
   "outputs": [
    {
     "data": {
      "image/png": "[encoded data removed]",
      "text/plain": [
       "<Figure size 864x432 with 1 Axes>"
      ]
     },
     "metadata": {
      "needs_background": "light"
     },
     "output_type": "display_data"
    }
   ],
   "source": [
    "#SibSp\n",
    "plt.figure(figsize=(12,6))\n",
    "sns.countplot(x = 'SibSp',data = dataset,hue = 'Survived')\n",
    "plt.title('Distribution of Survival based on Number of Sibling/Spouse with Passenger')\n",
    "plt.xlabel('SibSp')\n",
    "plt.ylabel('Passenger Count')\n",
    "plt.legend()\n",
    "plt.show()"
   ]
  },
  {
   "cell_type": "code",
   "execution_count": 13,
   "id": "ca526d43",
   "metadata": {},
   "outputs": [
    {
     "data": {
      "image/png": "[encoded data removed]",
      "text/plain": [
       "<Figure size 720x360 with 1 Axes>"
      ]
     },
     "metadata": {
      "needs_background": "light"
     },
     "output_type": "display_data"
    }
   ],
   "source": [
    "#Parch\n",
    "plt.figure(figsize=(10,5))\n",
    "sns.countplot(x = 'Parch',data = dataset,hue = 'Survived')\n",
    "plt.title('Distribution of Survival based on Number of Parent/Children with Passenger')\n",
    "plt.xlabel('Parent/Children')\n",
    "plt.ylabel('Passenger Count')\n",
    "plt.legend()\n",
    "plt.show()"
   ]
  },
  {
   "cell_type": "code",
   "execution_count": 14,
   "id": "6bad4da0",
   "metadata": {},
   "outputs": [
    {
     "data": {
      "text/plain": [
       "<matplotlib.legend.Legend at 0x24d55f90c70>"
      ]
     },
     "execution_count": 14,
     "metadata": {},
     "output_type": "execute_result"
    },
    {
     "data": {
      "image/png": "[encoded data removed]",
      "text/plain": [
       "<Figure size 936x360 with 1 Axes>"
      ]
     },
     "metadata": {
      "needs_background": "light"
     },
     "output_type": "display_data"
    }
   ],
   "source": [
    "#Age\n",
    "plt.figure(figsize=(13,5))\n",
    "plt.title('Age vs survival')\n",
    "sns.distplot(dataset['Age'][dataset['Survived']==0],bins=20,kde=True,hist=False)\n",
    "sns.distplot(dataset['Age'][dataset['Survived']==1],bins=20,kde=True,hist=False)\n",
    "plt.legend(labels=['Not Survived','Survived'])"
   ]
  },
  {
   "cell_type": "code",
   "execution_count": 15,
   "id": "0141e9fd",
   "metadata": {},
   "outputs": [
    {
     "data": {
      "text/plain": [
       "<matplotlib.legend.Legend at 0x24d56008460>"
      ]
     },
     "execution_count": 15,
     "metadata": {},
     "output_type": "execute_result"
    },
    {
     "data": {
      "image/png": "[encoded data removed]",
      "text/plain": [
       "<Figure size 936x360 with 1 Axes>"
      ]
     },
     "metadata": {
      "needs_background": "light"
     },
     "output_type": "display_data"
    }
   ],
   "source": [
    "#Fare\n",
    "plt.figure(figsize=(13,5))\n",
    "plt.title('Age vs survival')\n",
    "sns.distplot(dataset['Fare'][dataset['Survived']==0],bins=20,kde=True,hist=False)\n",
    "sns.distplot(dataset['Fare'][dataset['Survived']==1],bins=20,kde=True,hist=False)\n",
    "plt.legend(labels=['Not Survived','Survived'])"
   ]
  },
  {
   "cell_type": "code",
   "execution_count": 16,
   "id": "59b5285e",
   "metadata": {},
   "outputs": [
    {
     "data": {
      "text/plain": [
       "count        891\n",
       "unique       681\n",
       "top       347082\n",
       "freq           7\n",
       "Name: Ticket, dtype: object"
      ]
     },
     "execution_count": 16,
     "metadata": {},
     "output_type": "execute_result"
    }
   ],
   "source": [
    "#Ticket\n",
    "dataset['Ticket'].describe()"
   ]
  },
  {
   "cell_type": "code",
   "execution_count": 17,
   "id": "29a460cf",
   "metadata": {},
   "outputs": [
    {
     "data": {
      "text/plain": [
       "count         204\n",
       "unique        147\n",
       "top       B96 B98\n",
       "freq            4\n",
       "Name: Cabin, dtype: object"
      ]
     },
     "execution_count": 17,
     "metadata": {},
     "output_type": "execute_result"
    }
   ],
   "source": [
    "#Cabin\n",
    "dataset['Cabin'].describe()"
   ]
  },
  {
   "cell_type": "code",
   "execution_count": 18,
   "id": "6a4e6840",
   "metadata": {},
   "outputs": [
    {
     "data": {
      "text/plain": [
       "count                         891\n",
       "unique                        891\n",
       "top       Braund, Mr. Owen Harris\n",
       "freq                            1\n",
       "Name: Name, dtype: object"
      ]
     },
     "execution_count": 18,
     "metadata": {},
     "output_type": "execute_result"
    }
   ],
   "source": [
    "#Name\n",
    "dataset['Name'].describe()"
   ]
  },
  {
   "cell_type": "code",
   "execution_count": 19,
   "id": "f3367ada",
   "metadata": {},
   "outputs": [
    {
     "data": {
      "text/plain": [
       "891"
      ]
     },
     "execution_count": 19,
     "metadata": {},
     "output_type": "execute_result"
    }
   ],
   "source": [
    "#PassengerId\n",
    "dataset['PassengerId'].nunique()"
   ]
  },
  {
   "cell_type": "markdown",
   "id": "d76e22b3",
   "metadata": {},
   "source": [
    "#### Fare seems to vary with survival."
   ]
  },
  {
   "cell_type": "code",
   "execution_count": 20,
   "id": "3adb1a80",
   "metadata": {},
   "outputs": [
    {
     "data": {
      "image/png": "[encoded data removed]",
      "text/plain": [
       "<Figure size 1152x360 with 2 Axes>"
      ]
     },
     "metadata": {
      "needs_background": "light"
     },
     "output_type": "display_data"
    }
   ],
   "source": [
    "#Visualise outliers in the data\n",
    "fig, ax = plt.subplots(1,2, figsize = (16,5))\n",
    "col = ['Age', 'Fare']\n",
    "\n",
    "for i in range(0,2):\n",
    "    sns.boxplot(dataset[col[i]], ax=ax[i])"
   ]
  },
  {
   "cell_type": "markdown",
   "id": "c69a6d7b",
   "metadata": {},
   "source": [
    "# Handling Missing Value "
   ]
  },
  {
   "cell_type": "code",
   "execution_count": 21,
   "id": "0e8bd848",
   "metadata": {},
   "outputs": [
    {
     "data": {
      "text/html": [
       "<div>\n",
       "<style scoped>\n",
       "    .dataframe tbody tr th:only-of-type {\n",
       "        vertical-align: middle;\n",
       "    }\n",
       "\n",
       "    .dataframe tbody tr th {\n",
       "        vertical-align: top;\n",
       "    }\n",
       "\n",
       "    .dataframe thead th {\n",
       "        text-align: right;\n",
       "    }\n",
       "</style>\n",
       "<table border=\"1\" class=\"dataframe\">\n",
       "  <thead>\n",
       "    <tr style=\"text-align: right;\">\n",
       "      <th></th>\n",
       "      <th>Total Missing Values</th>\n",
       "      <th>Total_Percent</th>\n",
       "    </tr>\n",
       "  </thead>\n",
       "  <tbody>\n",
       "    <tr>\n",
       "      <th>PassengerId</th>\n",
       "      <td>0</td>\n",
       "      <td>0.00</td>\n",
       "    </tr>\n",
       "    <tr>\n",
       "      <th>Survived</th>\n",
       "      <td>0</td>\n",
       "      <td>0.00</td>\n",
       "    </tr>\n",
       "    <tr>\n",
       "      <th>Pclass</th>\n",
       "      <td>0</td>\n",
       "      <td>0.00</td>\n",
       "    </tr>\n",
       "    <tr>\n",
       "      <th>Name</th>\n",
       "      <td>0</td>\n",
       "      <td>0.00</td>\n",
       "    </tr>\n",
       "    <tr>\n",
       "      <th>Sex</th>\n",
       "      <td>0</td>\n",
       "      <td>0.00</td>\n",
       "    </tr>\n",
       "    <tr>\n",
       "      <th>Age</th>\n",
       "      <td>177</td>\n",
       "      <td>19.87</td>\n",
       "    </tr>\n",
       "    <tr>\n",
       "      <th>SibSp</th>\n",
       "      <td>0</td>\n",
       "      <td>0.00</td>\n",
       "    </tr>\n",
       "    <tr>\n",
       "      <th>Parch</th>\n",
       "      <td>0</td>\n",
       "      <td>0.00</td>\n",
       "    </tr>\n",
       "    <tr>\n",
       "      <th>Ticket</th>\n",
       "      <td>0</td>\n",
       "      <td>0.00</td>\n",
       "    </tr>\n",
       "    <tr>\n",
       "      <th>Fare</th>\n",
       "      <td>0</td>\n",
       "      <td>0.00</td>\n",
       "    </tr>\n",
       "    <tr>\n",
       "      <th>Cabin</th>\n",
       "      <td>687</td>\n",
       "      <td>77.10</td>\n",
       "    </tr>\n",
       "    <tr>\n",
       "      <th>Embarked</th>\n",
       "      <td>2</td>\n",
       "      <td>0.22</td>\n",
       "    </tr>\n",
       "  </tbody>\n",
       "</table>\n",
       "</div>"
      ],
      "text/plain": [
       "             Total Missing Values  Total_Percent\n",
       "PassengerId                     0           0.00\n",
       "Survived                        0           0.00\n",
       "Pclass                          0           0.00\n",
       "Name                            0           0.00\n",
       "Sex                             0           0.00\n",
       "Age                           177          19.87\n",
       "SibSp                           0           0.00\n",
       "Parch                           0           0.00\n",
       "Ticket                          0           0.00\n",
       "Fare                            0           0.00\n",
       "Cabin                         687          77.10\n",
       "Embarked                        2           0.22"
      ]
     },
     "execution_count": 21,
     "metadata": {},
     "output_type": "execute_result"
    }
   ],
   "source": [
    "#Percent of missing values in the dataset\n",
    "round(dataset.isnull().sum()*100/dataset.shape[0],2) \n",
    "\n",
    "Total = dataset.isnull().sum()\n",
    "Total_Percent = round(dataset.isnull().sum()*100/dataset.shape[0],2) \n",
    "missing_data = pd.concat([Total, Total_Percent], axis=1, keys=['Total Missing Values', 'Total_Percent'])\n",
    "missing_data"
   ]
  },
  {
   "cell_type": "markdown",
   "id": "727a04a2",
   "metadata": {},
   "source": [
    "#### Deleting columns which has more than 30% missing values"
   ]
  },
  {
   "cell_type": "code",
   "execution_count": 22,
   "id": "72a2420c",
   "metadata": {},
   "outputs": [],
   "source": [
    "#Creating a copy of main dataset\n",
    "dataset_1 = dataset.copy()"
   ]
  },
  {
   "cell_type": "code",
   "execution_count": 23,
   "id": "caafdce1",
   "metadata": {},
   "outputs": [],
   "source": [
    "# Deleting Cabin variable (77% missing)\n",
    "dataset_1.drop(['Cabin'], axis=1, inplace = True)"
   ]
  },
  {
   "cell_type": "code",
   "execution_count": 24,
   "id": "c3f45517",
   "metadata": {},
   "outputs": [
    {
     "data": {
      "text/plain": [
       "S    644\n",
       "C    168\n",
       "Q     77\n",
       "Name: Embarked, dtype: int64"
      ]
     },
     "execution_count": 24,
     "metadata": {},
     "output_type": "execute_result"
    }
   ],
   "source": [
    "dataset_1['Embarked'].value_counts()"
   ]
  },
  {
   "cell_type": "code",
   "execution_count": 25,
   "id": "b41e1a6e",
   "metadata": {},
   "outputs": [],
   "source": [
    "#Embarked (replacing missing values by most frequent value)\n",
    "dataset_1['Embarked'] = dataset_1['Embarked'].fillna(dataset_1['Embarked'].mode()[0])"
   ]
  },
  {
   "cell_type": "code",
   "execution_count": 26,
   "id": "2d9ebd6a",
   "metadata": {},
   "outputs": [
    {
     "data": {
      "image/png": "[encoded data removed]",
      "text/plain": [
       "<Figure size 1152x432 with 2 Axes>"
      ]
     },
     "metadata": {
      "needs_background": "light"
     },
     "output_type": "display_data"
    }
   ],
   "source": [
    "#Correlation\n",
    "plt.figure(figsize=(16, 6))\n",
    "# define the mask to set the values in the upper triangle to True\n",
    "mask = np.triu(np.ones_like(dataset_1.corr(), dtype=np.bool))\n",
    "heatmap = sns.heatmap(dataset_1.corr(), mask=mask, vmin=-1, vmax=1, annot=True)\n",
    "heatmap.set_title('Triangle Correlation Heatmap', fontdict={'fontsize':18}, pad=16);"
   ]
  },
  {
   "cell_type": "code",
   "execution_count": 27,
   "id": "42972ab5",
   "metadata": {},
   "outputs": [
    {
     "data": {
      "text/html": [
       "<div>\n",
       "<style scoped>\n",
       "    .dataframe tbody tr th:only-of-type {\n",
       "        vertical-align: middle;\n",
       "    }\n",
       "\n",
       "    .dataframe tbody tr th {\n",
       "        vertical-align: top;\n",
       "    }\n",
       "\n",
       "    .dataframe thead th {\n",
       "        text-align: right;\n",
       "    }\n",
       "</style>\n",
       "<table border=\"1\" class=\"dataframe\">\n",
       "  <thead>\n",
       "    <tr style=\"text-align: right;\">\n",
       "      <th></th>\n",
       "      <th>Pclass</th>\n",
       "      <th>Age</th>\n",
       "    </tr>\n",
       "  </thead>\n",
       "  <tbody>\n",
       "    <tr>\n",
       "      <th>0</th>\n",
       "      <td>1</td>\n",
       "      <td>37.0</td>\n",
       "    </tr>\n",
       "    <tr>\n",
       "      <th>1</th>\n",
       "      <td>2</td>\n",
       "      <td>29.0</td>\n",
       "    </tr>\n",
       "    <tr>\n",
       "      <th>2</th>\n",
       "      <td>3</td>\n",
       "      <td>24.0</td>\n",
       "    </tr>\n",
       "  </tbody>\n",
       "</table>\n",
       "</div>"
      ],
      "text/plain": [
       "   Pclass   Age\n",
       "0       1  37.0\n",
       "1       2  29.0\n",
       "2       3  24.0"
      ]
     },
     "execution_count": 27,
     "metadata": {},
     "output_type": "execute_result"
    }
   ],
   "source": [
    "Subs = dataset_1.groupby('Pclass',as_index=False)['Age'].median()\n",
    "Subs"
   ]
  },
  {
   "cell_type": "code",
   "execution_count": 28,
   "id": "7fa1dc91",
   "metadata": {},
   "outputs": [],
   "source": [
    "for i,row in dataset_1.iterrows():\n",
    "    if(np.isnan(dataset_1['Age'][i])==True):\n",
    "        if(dataset_1['Pclass'][i]==1):\n",
    "            dataset_1['Age'][i] = Subs['Age'][0]\n",
    "        elif(dataset_1['Pclass'][i]==2):\n",
    "            dataset_1['Age'][i] = Subs['Age'][1]\n",
    "        else:   \n",
    "            dataset_1['Age'][i] = Subs['Age'][2]\n",
    "            "
   ]
  },
  {
   "cell_type": "markdown",
   "id": "0a536885",
   "metadata": {},
   "source": [
    "# Binning"
   ]
  },
  {
   "cell_type": "code",
   "execution_count": 29,
   "id": "de9f87a5",
   "metadata": {},
   "outputs": [
    {
     "data": {
      "text/plain": [
       "1    298\n",
       "2    207\n",
       "3    183\n",
       "0    139\n",
       "4     64\n",
       "Name: Age, dtype: int64"
      ]
     },
     "execution_count": 29,
     "metadata": {},
     "output_type": "execute_result"
    }
   ],
   "source": [
    "#Age\n",
    "dataset_1['Age'] = pd.cut(x=dataset_1['Age'], bins=[0,18, 25, 35, 50,99],labels=[0,1,2,3,4])\n",
    "dataset_1['Age'] = dataset_1['Age'].astype(int)\n",
    "dataset_1['Age'].value_counts()"
   ]
  },
  {
   "cell_type": "code",
   "execution_count": 30,
   "id": "8f8e7396",
   "metadata": {},
   "outputs": [
    {
     "data": {
      "text/plain": [
       "1    224\n",
       "0    223\n",
       "3    222\n",
       "2    222\n",
       "Name: Fare, dtype: int64"
      ]
     },
     "execution_count": 30,
     "metadata": {},
     "output_type": "execute_result"
    }
   ],
   "source": [
    "#Fare\n",
    "dataset_1['Fare'] = pd.qcut(dataset['Fare'], 4,labels=[0,1,2,3])\n",
    "dataset_1['Fare'] = dataset_1['Fare'].astype(int)\n",
    "dataset_1['Fare'].value_counts()"
   ]
  },
  {
   "cell_type": "markdown",
   "id": "18e471c4",
   "metadata": {},
   "source": [
    "# New Features"
   ]
  },
  {
   "cell_type": "code",
   "execution_count": 31,
   "id": "ff66a4f3",
   "metadata": {},
   "outputs": [],
   "source": [
    "#SibSp and Parch would make more sense as a combined feature, that shows the total number of relatives, \n",
    "#a person has on the Titanic.\n",
    "dataset_1['Relatives'] = dataset_1['SibSp'] + dataset_1['Parch']"
   ]
  },
  {
   "cell_type": "code",
   "execution_count": 32,
   "id": "f95c258c",
   "metadata": {},
   "outputs": [],
   "source": [
    "#Alone shows if someone is travelling alone or not \n",
    "dataset_1.loc[dataset_1['Relatives'] > 0, 'Alone'] = 0\n",
    "dataset_1.loc[dataset_1['Relatives'] == 0, 'Alone'] = 1\n",
    "dataset_1['Alone'] = dataset_1['Alone'].astype(int)"
   ]
  },
  {
   "cell_type": "code",
   "execution_count": 33,
   "id": "d868cba5",
   "metadata": {},
   "outputs": [],
   "source": [
    "#Name feature to extract the titles from the Name\n",
    "#Passenger status\n",
    "dataset_1['Passenger_Status'] = dataset_1['Name'].str.extract(' ([A-Za-z]+)\\.', expand=False)\n",
    "\n",
    "#Cleaning passenger Passenger_Status\n",
    "dataset_1['Passenger_Status'] = dataset_1['Passenger_Status'].replace('Ms', 'Miss')\n",
    "dataset_1['Passenger_Status'] = dataset_1['Passenger_Status'].replace('Mlle', 'Miss')\n",
    "dataset_1['Passenger_Status'] = dataset_1['Passenger_Status'].replace('Mme', 'Mrs')\n",
    "dataset_1['Passenger_Status'] = dataset_1['Passenger_Status'].replace(['Dr', 'Major','Col','Don', 'Countess','Capt', 'Dona', 'Rev', 'Sir', 'Jonkheer','Lady'], 'Others')"
   ]
  },
  {
   "cell_type": "markdown",
   "id": "9bb4d3e4",
   "metadata": {},
   "source": [
    "# Feature Encoding"
   ]
  },
  {
   "cell_type": "code",
   "execution_count": 34,
   "id": "56ff02cf",
   "metadata": {},
   "outputs": [],
   "source": [
    "#Sex\n",
    "Genders = {\"male\": 0, \"female\": 1}\n",
    "dataset_1['Sex'] = dataset_1['Sex'].map(Genders)\n",
    "\n",
    "#Embarked\n",
    "Ports = {\"S\": 0, \"C\": 1, \"Q\": 2}\n",
    "dataset_1['Embarked'] = dataset_1['Embarked'].map(Ports)\n",
    "\n",
    "#Passenger_Status\n",
    "Status = {\"Mr\": 0, \"Miss\": 1, \"Mrs\": 2, \"Master\": 3, \"Others\": 4}\n",
    "dataset_1['Passenger_Status'] = dataset_1['Passenger_Status'].map(Status)"
   ]
  },
  {
   "cell_type": "markdown",
   "id": "1e6325f3",
   "metadata": {},
   "source": [
    "# Deleting unwanted columns"
   ]
  },
  {
   "cell_type": "code",
   "execution_count": 35,
   "id": "a972a30e",
   "metadata": {},
   "outputs": [],
   "source": [
    "#Dropping these variables because it has too many unique variables\n",
    "dataset_2 = dataset_1.drop(['PassengerId','Name','Ticket'],axis=1) "
   ]
  },
  {
   "cell_type": "markdown",
   "id": "cef6a659",
   "metadata": {},
   "source": [
    "# Feature Importance"
   ]
  },
  {
   "cell_type": "code",
   "execution_count": 36,
   "id": "d581aa6f",
   "metadata": {},
   "outputs": [
    {
     "data": {
      "text/plain": [
       "{0.3636: 'Passenger_Status',\n",
       " 0.1384: 'Pclass',\n",
       " 0.1196: 'Sex',\n",
       " 0.1004: 'Age',\n",
       " 0.0991: 'Relatives',\n",
       " 0.0683: 'Fare',\n",
       " 0.0459: 'Embarked',\n",
       " 0.0315: 'SibSp',\n",
       " 0.0223: 'Parch',\n",
       " 0.0109: 'Alone'}"
      ]
     },
     "execution_count": 36,
     "metadata": {},
     "output_type": "execute_result"
    }
   ],
   "source": [
    "from sklearn.ensemble import RandomForestRegressor\n",
    "train_dummies = pd.get_dummies(dataset_2)\n",
    "df=train_dummies.drop(['Survived'], axis=1).copy()\n",
    "model = RandomForestRegressor(random_state=1, max_depth=10)\n",
    "model.fit(df,train_dummies.Survived)\n",
    "dict(reversed(sorted(zip(np.round(model.feature_importances_,4), df.columns.values))))"
   ]
  },
  {
   "cell_type": "markdown",
   "id": "abb8ec18",
   "metadata": {},
   "source": [
    "# Modeling"
   ]
  },
  {
   "cell_type": "code",
   "execution_count": 37,
   "id": "2eab9b1a",
   "metadata": {},
   "outputs": [],
   "source": [
    "#Spliting features and target\n",
    "#Removing less importance variables like Parch, SibSp\n",
    "X=dataset_2.drop(columns=['Survived','Parch','SibSp','Alone'])\n",
    "y=dataset_2['Survived']"
   ]
  },
  {
   "cell_type": "code",
   "execution_count": 38,
   "id": "f90b96f8",
   "metadata": {},
   "outputs": [],
   "source": [
    "#Importing Libraries\n",
    "from sklearn.model_selection import train_test_split\n",
    "from sklearn.metrics import accuracy_score ,confusion_matrix,classification_report"
   ]
  },
  {
   "cell_type": "code",
   "execution_count": 39,
   "id": "0d7aee10",
   "metadata": {},
   "outputs": [],
   "source": [
    "#Splitting into train and test data\n",
    "X_train,X_test,y_train,y_test = train_test_split(X,y,test_size=0.25,random_state=0)"
   ]
  },
  {
   "cell_type": "code",
   "execution_count": 40,
   "id": "9c1ed330",
   "metadata": {},
   "outputs": [],
   "source": [
    "Result=pd.DataFrame(columns=['Name', 'train_accuracy', 'test_accuracy'])"
   ]
  },
  {
   "cell_type": "code",
   "execution_count": 41,
   "id": "f8663bcb",
   "metadata": {},
   "outputs": [],
   "source": [
    "def train_test_evaluate_model(model,name):\n",
    "    global Result\n",
    "    \n",
    "    print(name)\n",
    "    model.fit(X_train,y_train)\n",
    "    train_score=model.score(X_train,y_train)\n",
    "    print(\"Train Accuracy :\",round(train_score,3))\n",
    "    \n",
    "    predict= model.predict(X_test)\n",
    "    test_score=accuracy_score(y_test,predict)\n",
    "    print(\"Test Accuracy :\",round(test_score,3))\n",
    "    \n",
    "    print(\"Confusion Matrix of Test data:\")\n",
    "    confusion__matrix = pd.crosstab(y_test,predict , rownames=['Actual'], colnames=['Predicted'])\n",
    "    sns.heatmap(confusion__matrix, annot=True, fmt='g')\n",
    "    plt.show()\n",
    "    cm=confusion_matrix(y_test,predict)\n",
    "    tp = cm[1,1]\n",
    "    tn = cm[0,0]\n",
    "    fp = cm[0,1]\n",
    "    fn = cm[1,0]\n",
    "    \n",
    "    print(\"Precision : \",round((tp)/(tp+fp),3))\n",
    "    print(\"Recall/TPR/Sensitivity : \",round((tp)/(tp+fn),3))\n",
    "    \n",
    "    \n",
    "    new_row = {'Name':name, 'train_accuracy': round(train_score,3) , 'test_accuracy': round(test_score,3)}\n",
    "    #append row to the dataframe\n",
    "    Result = Result.append(new_row, ignore_index=True)"
   ]
  },
  {
   "cell_type": "markdown",
   "id": "f7c93e43",
   "metadata": {},
   "source": [
    "# Logistic Regression"
   ]
  },
  {
   "cell_type": "code",
   "execution_count": 42,
   "id": "a08a51eb",
   "metadata": {},
   "outputs": [
    {
     "name": "stdout",
     "output_type": "stream",
     "text": [
      "Best Accuracy: 0.830182 using {'C': 0.1, 'penalty': 'l2', 'solver': 'liblinear'}\n"
     ]
    }
   ],
   "source": [
    "from sklearn.datasets import make_blobs\n",
    "from sklearn.model_selection import RepeatedStratifiedKFold\n",
    "from sklearn.model_selection import GridSearchCV\n",
    "from sklearn.linear_model import LogisticRegression\n",
    "\n",
    "#X, y = make_blobs(n_samples=1000, centers=2, n_features=100, cluster_std=20)\n",
    "# define models and parameters\n",
    "model = LogisticRegression()\n",
    "solvers = ['newton-cg', 'lbfgs', 'liblinear']\n",
    "penalty = ['l1','l2']\n",
    "c_val = [10, 1.0, 0.1,0.3,0.5 ,0.01]\n",
    "\n",
    "# define grid search\n",
    "grid = {'solver':solvers,'penalty':penalty,'C':c_val}\n",
    "cv = RepeatedStratifiedKFold(n_splits=5, n_repeats=2, random_state=10)\n",
    "grid_search = GridSearchCV(estimator=model, param_grid=grid, n_jobs=-1, cv=cv, scoring='accuracy',error_score=0)\n",
    "grid_result = grid_search.fit(X_train, y_train)\n",
    "\n",
    "# summarize results\n",
    "print(\"Best Accuracy: %f using %s\" % (grid_result.best_score_, grid_result.best_params_))"
   ]
  },
  {
   "cell_type": "code",
   "execution_count": 43,
   "id": "07391c7c",
   "metadata": {},
   "outputs": [
    {
     "name": "stdout",
     "output_type": "stream",
     "text": [
      "LogisticRegression\n",
      "Train Accuracy : 0.831\n",
      "Test Accuracy : 0.789\n",
      "Confusion Matrix of Test data:\n"
     ]
    },
    {
     "data": {
      "image/png": "[encoded data removed]",
      "text/plain": [
       "<Figure size 432x288 with 2 Axes>"
      ]
     },
     "metadata": {
      "needs_background": "light"
     },
     "output_type": "display_data"
    },
    {
     "name": "stdout",
     "output_type": "stream",
     "text": [
      "Precision :  0.708\n",
      "Recall/TPR/Sensitivity :  0.75\n"
     ]
    }
   ],
   "source": [
    "train_test_evaluate_model(LogisticRegression(C= 0.1, penalty='l2', solver= 'liblinear'),\"LogisticRegression\")"
   ]
  },
  {
   "cell_type": "markdown",
   "id": "b7d1dc90",
   "metadata": {},
   "source": [
    "# KNN"
   ]
  },
  {
   "cell_type": "code",
   "execution_count": 45,
   "id": "2444e9c8",
   "metadata": {
    "scrolled": true
   },
   "outputs": [
    {
     "name": "stdout",
     "output_type": "stream",
     "text": [
      "Best: 0.827356 using {'metric': 'manhattan', 'n_neighbors': 19, 'weights': 'uniform'}\n"
     ]
    }
   ],
   "source": [
    "from sklearn.datasets import make_blobs\n",
    "from sklearn.model_selection import RepeatedStratifiedKFold\n",
    "from sklearn.model_selection import GridSearchCV\n",
    "from sklearn.neighbors import KNeighborsClassifier\n",
    "\n",
    "\n",
    "# define models and parameters\n",
    "model = KNeighborsClassifier()\n",
    "n_neighbors = range(1,20,2)\n",
    "weights = ['uniform', 'distance']\n",
    "metric = ['euclidean', 'manhattan', 'minkowski']\n",
    "# define grid search\n",
    "grid = dict(n_neighbors=n_neighbors,weights=weights,metric=metric)\n",
    "cv = RepeatedStratifiedKFold(n_splits=10, n_repeats=3, random_state=1)\n",
    "grid_search = GridSearchCV(estimator=model, param_grid=grid, n_jobs=-1, cv=cv, scoring='accuracy',error_score=0)\n",
    "grid_result = grid_search.fit(X_train, y_train)\n",
    "# summarize results\n",
    "print(\"Best: %f using %s\" % (grid_result.best_score_, grid_result.best_params_))"
   ]
  },
  {
   "cell_type": "code",
   "execution_count": 46,
   "id": "3ba395fc",
   "metadata": {},
   "outputs": [
    {
     "name": "stdout",
     "output_type": "stream",
     "text": [
      "KNN\n",
      "Train Accuracy : 0.835\n",
      "Test Accuracy : 0.816\n",
      "Confusion Matrix of Test data:\n"
     ]
    },
    {
     "data": {
      "image/png": "[encoded data removed]",
      "text/plain": [
       "<Figure size 432x288 with 2 Axes>"
      ]
     },
     "metadata": {
      "needs_background": "light"
     },
     "output_type": "display_data"
    },
    {
     "name": "stdout",
     "output_type": "stream",
     "text": [
      "Precision :  0.731\n",
      "Recall/TPR/Sensitivity :  0.81\n"
     ]
    }
   ],
   "source": [
    "train_test_evaluate_model(KNeighborsClassifier(metric='manhattan', n_neighbors= 19, weights= 'uniform'),\"KNN\")"
   ]
  },
  {
   "cell_type": "markdown",
   "id": "5db805b7",
   "metadata": {},
   "source": [
    "# Random Forest"
   ]
  },
  {
   "cell_type": "code",
   "execution_count": 49,
   "id": "d0fe8434",
   "metadata": {},
   "outputs": [
    {
     "name": "stdout",
     "output_type": "stream",
     "text": [
      "Best: 0.829357 using {'criterion': 'gini', 'min_samples_leaf': 1, 'min_samples_split': 12, 'n_estimators': 700}\n"
     ]
    }
   ],
   "source": [
    "from sklearn.model_selection import RepeatedStratifiedKFold\n",
    "from sklearn.model_selection import GridSearchCV\n",
    "from sklearn.ensemble import RandomForestClassifier\n",
    "\n",
    "# define models and parameters\n",
    "model = RandomForestClassifier(n_estimators=100, max_features='auto', oob_score=True, random_state=1, n_jobs=-1)\n",
    "\n",
    "# define grid search\n",
    "grid = { \"criterion\" : [\"gini\", \"entropy\"], \"min_samples_leaf\" : [1, 5, 10, 25], \"min_samples_split\" : [2, 4, 10, 12, 16], \"n_estimators\": [100,300,500,700]}\n",
    "\n",
    "grid_search = GridSearchCV(estimator=model, param_grid=grid, n_jobs=-1)\n",
    "grid_result = grid_search.fit(X_train, y_train)\n",
    "# summarize results\n",
    "print(\"Best: %f using %s\" % (grid_result.best_score_, grid_result.best_params_))"
   ]
  },
  {
   "cell_type": "code",
   "execution_count": 50,
   "id": "b0fc7147",
   "metadata": {},
   "outputs": [
    {
     "name": "stdout",
     "output_type": "stream",
     "text": [
      "RandomForest\n",
      "Train Accuracy : 0.864\n",
      "Test Accuracy : 0.834\n",
      "Confusion Matrix of Test data:\n"
     ]
    },
    {
     "data": {
      "image/png": "[encoded data removed]",
      "text/plain": [
       "<Figure size 432x288 with 2 Axes>"
      ]
     },
     "metadata": {
      "needs_background": "light"
     },
     "output_type": "display_data"
    },
    {
     "name": "stdout",
     "output_type": "stream",
     "text": [
      "Precision :  0.813\n",
      "Recall/TPR/Sensitivity :  0.726\n"
     ]
    }
   ],
   "source": [
    "train_test_evaluate_model(RandomForestClassifier(criterion='gini',min_samples_leaf = 1, min_samples_split=12,\n",
    "                                                 n_estimators= 700),\"RandomForest\")"
   ]
  },
  {
   "cell_type": "markdown",
   "id": "5d41d433",
   "metadata": {},
   "source": [
    "# Decision Tree"
   ]
  },
  {
   "cell_type": "code",
   "execution_count": 51,
   "id": "2abbc1f8",
   "metadata": {},
   "outputs": [
    {
     "name": "stdout",
     "output_type": "stream",
     "text": [
      "Fitting 3 folds for each of 56 candidates, totalling 168 fits\n",
      "[CV 1/3] END criterion=gini, max_depth=1, max_features=auto;, score=-0.426 total time=   0.0s\n",
      "[CV 2/3] END criterion=gini, max_depth=1, max_features=auto;, score=-0.381 total time=   0.0s\n",
      "[CV 3/3] END criterion=gini, max_depth=1, max_features=auto;, score=-0.365 total time=   0.0s\n",
      "[CV 1/3] END criterion=gini, max_depth=1, max_features=log2;, score=-0.229 total time=   0.0s\n",
      "[CV 2/3] END criterion=gini, max_depth=1, max_features=log2;, score=-0.224 total time=   0.0s\n",
      "[CV 3/3] END criterion=gini, max_depth=1, max_features=log2;, score=-0.365 total time=   0.0s\n",
      "[CV 1/3] END criterion=gini, max_depth=1, max_features=sqrt;, score=-0.372 total time=   0.0s\n",
      "[CV 2/3] END criterion=gini, max_depth=1, max_features=sqrt;, score=-0.224 total time=   0.0s\n",
      "[CV 3/3] END criterion=gini, max_depth=1, max_features=sqrt;, score=-0.194 total time=   0.0s\n",
      "[CV 1/3] END criterion=gini, max_depth=1, max_features=None;, score=-0.224 total time=   0.0s\n",
      "[CV 2/3] END criterion=gini, max_depth=1, max_features=None;, score=-0.224 total time=   0.0s\n",
      "[CV 3/3] END criterion=gini, max_depth=1, max_features=None;, score=-0.180 total time=   0.0s\n",
      "[CV 1/3] END criterion=gini, max_depth=3, max_features=auto;, score=-0.211 total time=   0.0s\n",
      "[CV 2/3] END criterion=gini, max_depth=3, max_features=auto;, score=-0.211 total time=   0.0s\n",
      "[CV 3/3] END criterion=gini, max_depth=3, max_features=auto;, score=-0.230 total time=   0.0s\n",
      "[CV 1/3] END criterion=gini, max_depth=3, max_features=log2;, score=-0.229 total time=   0.0s\n",
      "[CV 2/3] END criterion=gini, max_depth=3, max_features=log2;, score=-0.193 total time=   0.0s\n",
      "[CV 3/3] END criterion=gini, max_depth=3, max_features=log2;, score=-0.149 total time=   0.0s\n",
      "[CV 1/3] END criterion=gini, max_depth=3, max_features=sqrt;, score=-0.202 total time=   0.0s\n",
      "[CV 2/3] END criterion=gini, max_depth=3, max_features=sqrt;, score=-0.229 total time=   0.0s\n",
      "[CV 3/3] END criterion=gini, max_depth=3, max_features=sqrt;, score=-0.252 total time=   0.0s\n",
      "[CV 1/3] END criterion=gini, max_depth=3, max_features=None;, score=-0.179 total time=   0.0s\n",
      "[CV 2/3] END criterion=gini, max_depth=3, max_features=None;, score=-0.197 total time=   0.0s\n",
      "[CV 3/3] END criterion=gini, max_depth=3, max_features=None;, score=-0.153 total time=   0.0s\n",
      "[CV 1/3] END criterion=gini, max_depth=5, max_features=auto;, score=-0.170 total time=   0.0s\n",
      "[CV 2/3] END criterion=gini, max_depth=5, max_features=auto;, score=-0.211 total time=   0.0s\n",
      "[CV 3/3] END criterion=gini, max_depth=5, max_features=auto;, score=-0.185 total time=   0.0s\n",
      "[CV 1/3] END criterion=gini, max_depth=5, max_features=log2;, score=-0.242 total time=   0.0s\n",
      "[CV 2/3] END criterion=gini, max_depth=5, max_features=log2;, score=-0.188 total time=   0.0s\n",
      "[CV 3/3] END criterion=gini, max_depth=5, max_features=log2;, score=-0.158 total time=   0.0s\n",
      "[CV 1/3] END criterion=gini, max_depth=5, max_features=sqrt;, score=-0.211 total time=   0.0s\n",
      "[CV 2/3] END criterion=gini, max_depth=5, max_features=sqrt;, score=-0.211 total time=   0.0s\n",
      "[CV 3/3] END criterion=gini, max_depth=5, max_features=sqrt;, score=-0.149 total time=   0.0s\n",
      "[CV 1/3] END criterion=gini, max_depth=5, max_features=None;, score=-0.197 total time=   0.0s\n",
      "[CV 2/3] END criterion=gini, max_depth=5, max_features=None;, score=-0.206 total time=   0.0s\n",
      "[CV 3/3] END criterion=gini, max_depth=5, max_features=None;, score=-0.198 total time=   0.0s\n",
      "[CV 1/3] END criterion=gini, max_depth=7, max_features=auto;, score=-0.202 total time=   0.0s\n",
      "[CV 2/3] END criterion=gini, max_depth=7, max_features=auto;, score=-0.193 total time=   0.0s\n",
      "[CV 3/3] END criterion=gini, max_depth=7, max_features=auto;, score=-0.171 total time=   0.0s\n",
      "[CV 1/3] END criterion=gini, max_depth=7, max_features=log2;, score=-0.197 total time=   0.0s\n",
      "[CV 2/3] END criterion=gini, max_depth=7, max_features=log2;, score=-0.224 total time=   0.0s\n",
      "[CV 3/3] END criterion=gini, max_depth=7, max_features=log2;, score=-0.189 total time=   0.0s\n",
      "[CV 1/3] END criterion=gini, max_depth=7, max_features=sqrt;, score=-0.238 total time=   0.0s\n",
      "[CV 2/3] END criterion=gini, max_depth=7, max_features=sqrt;, score=-0.215 total time=   0.0s\n",
      "[CV 3/3] END criterion=gini, max_depth=7, max_features=sqrt;, score=-0.207 total time=   0.0s\n",
      "[CV 1/3] END criterion=gini, max_depth=7, max_features=None;, score=-0.215 total time=   0.0s\n",
      "[CV 2/3] END criterion=gini, max_depth=7, max_features=None;, score=-0.179 total time=   0.0s\n",
      "[CV 3/3] END criterion=gini, max_depth=7, max_features=None;, score=-0.216 total time=   0.0s\n",
      "[CV 1/3] END criterion=gini, max_depth=9, max_features=auto;, score=-0.224 total time=   0.0s\n",
      "[CV 2/3] END criterion=gini, max_depth=9, max_features=auto;, score=-0.188 total time=   0.0s\n",
      "[CV 3/3] END criterion=gini, max_depth=9, max_features=auto;, score=-0.243 total time=   0.0s\n",
      "[CV 1/3] END criterion=gini, max_depth=9, max_features=log2;, score=-0.215 total time=   0.0s\n",
      "[CV 2/3] END criterion=gini, max_depth=9, max_features=log2;, score=-0.229 total time=   0.0s\n",
      "[CV 3/3] END criterion=gini, max_depth=9, max_features=log2;, score=-0.203 total time=   0.0s\n",
      "[CV 1/3] END criterion=gini, max_depth=9, max_features=sqrt;, score=-0.211 total time=   0.0s\n",
      "[CV 2/3] END criterion=gini, max_depth=9, max_features=sqrt;, score=-0.215 total time=   0.0s\n",
      "[CV 3/3] END criterion=gini, max_depth=9, max_features=sqrt;, score=-0.216 total time=   0.0s\n",
      "[CV 1/3] END criterion=gini, max_depth=9, max_features=None;, score=-0.220 total time=   0.0s\n",
      "[CV 2/3] END criterion=gini, max_depth=9, max_features=None;, score=-0.193 total time=   0.0s\n",
      "[CV 3/3] END criterion=gini, max_depth=9, max_features=None;, score=-0.221 total time=   0.0s\n",
      "[CV 1/3] END criterion=gini, max_depth=11, max_features=auto;, score=-0.224 total time=   0.0s\n",
      "[CV 2/3] END criterion=gini, max_depth=11, max_features=auto;, score=-0.193 total time=   0.0s\n",
      "[CV 3/3] END criterion=gini, max_depth=11, max_features=auto;, score=-0.225 total time=   0.0s\n",
      "[CV 1/3] END criterion=gini, max_depth=11, max_features=log2;, score=-0.211 total time=   0.0s\n",
      "[CV 2/3] END criterion=gini, max_depth=11, max_features=log2;, score=-0.202 total time=   0.0s\n",
      "[CV 3/3] END criterion=gini, max_depth=11, max_features=log2;, score=-0.203 total time=   0.0s\n",
      "[CV 1/3] END criterion=gini, max_depth=11, max_features=sqrt;, score=-0.229 total time=   0.0s\n",
      "[CV 2/3] END criterion=gini, max_depth=11, max_features=sqrt;, score=-0.202 total time=   0.0s\n",
      "[CV 3/3] END criterion=gini, max_depth=11, max_features=sqrt;, score=-0.207 total time=   0.0s\n",
      "[CV 1/3] END criterion=gini, max_depth=11, max_features=None;, score=-0.229 total time=   0.0s\n",
      "[CV 2/3] END criterion=gini, max_depth=11, max_features=None;, score=-0.197 total time=   0.0s\n",
      "[CV 3/3] END criterion=gini, max_depth=11, max_features=None;, score=-0.216 total time=   0.0s\n",
      "[CV 1/3] END criterion=gini, max_depth=12, max_features=auto;, score=-0.224 total time=   0.0s\n",
      "[CV 2/3] END criterion=gini, max_depth=12, max_features=auto;, score=-0.224 total time=   0.0s\n",
      "[CV 3/3] END criterion=gini, max_depth=12, max_features=auto;, score=-0.207 total time=   0.0s\n",
      "[CV 1/3] END criterion=gini, max_depth=12, max_features=log2;, score=-0.220 total time=   0.0s\n",
      "[CV 2/3] END criterion=gini, max_depth=12, max_features=log2;, score=-0.202 total time=   0.0s\n",
      "[CV 3/3] END criterion=gini, max_depth=12, max_features=log2;, score=-0.212 total time=   0.0s\n",
      "[CV 1/3] END criterion=gini, max_depth=12, max_features=sqrt;, score=-0.224 total time=   0.0s\n",
      "[CV 2/3] END criterion=gini, max_depth=12, max_features=sqrt;, score=-0.188 total time=   0.0s\n",
      "[CV 3/3] END criterion=gini, max_depth=12, max_features=sqrt;, score=-0.239 total time=   0.0s\n",
      "[CV 1/3] END criterion=gini, max_depth=12, max_features=None;, score=-0.247 total time=   0.0s\n",
      "[CV 2/3] END criterion=gini, max_depth=12, max_features=None;, score=-0.202 total time=   0.0s\n",
      "[CV 3/3] END criterion=gini, max_depth=12, max_features=None;, score=-0.216 total time=   0.0s\n",
      "[CV 1/3] END criterion=entropy, max_depth=1, max_features=auto;, score=-0.224 total time=   0.0s\n",
      "[CV 2/3] END criterion=entropy, max_depth=1, max_features=auto;, score=-0.224 total time=   0.0s\n",
      "[CV 3/3] END criterion=entropy, max_depth=1, max_features=auto;, score=-0.180 total time=   0.0s\n",
      "[CV 1/3] END criterion=entropy, max_depth=1, max_features=log2;, score=-0.224 total time=   0.0s\n",
      "[CV 2/3] END criterion=entropy, max_depth=1, max_features=log2;, score=-0.381 total time=   0.0s\n",
      "[CV 3/3] END criterion=entropy, max_depth=1, max_features=log2;, score=-0.338 total time=   0.0s\n",
      "[CV 1/3] END criterion=entropy, max_depth=1, max_features=sqrt;, score=-0.426 total time=   0.0s\n",
      "[CV 2/3] END criterion=entropy, max_depth=1, max_features=sqrt;, score=-0.386 total time=   0.0s\n",
      "[CV 3/3] END criterion=entropy, max_depth=1, max_features=sqrt;, score=-0.387 total time=   0.0s\n",
      "[CV 1/3] END criterion=entropy, max_depth=1, max_features=None;, score=-0.224 total time=   0.0s\n"
     ]
    },
    {
     "name": "stdout",
     "output_type": "stream",
     "text": [
      "[CV 2/3] END criterion=entropy, max_depth=1, max_features=None;, score=-0.224 total time=   0.0s\n",
      "[CV 3/3] END criterion=entropy, max_depth=1, max_features=None;, score=-0.180 total time=   0.0s\n",
      "[CV 1/3] END criterion=entropy, max_depth=3, max_features=auto;, score=-0.170 total time=   0.0s\n",
      "[CV 2/3] END criterion=entropy, max_depth=3, max_features=auto;, score=-0.229 total time=   0.0s\n",
      "[CV 3/3] END criterion=entropy, max_depth=3, max_features=auto;, score=-0.180 total time=   0.0s\n",
      "[CV 1/3] END criterion=entropy, max_depth=3, max_features=log2;, score=-0.224 total time=   0.0s\n",
      "[CV 2/3] END criterion=entropy, max_depth=3, max_features=log2;, score=-0.215 total time=   0.0s\n",
      "[CV 3/3] END criterion=entropy, max_depth=3, max_features=log2;, score=-0.180 total time=   0.0s\n",
      "[CV 1/3] END criterion=entropy, max_depth=3, max_features=sqrt;, score=-0.193 total time=   0.0s\n",
      "[CV 2/3] END criterion=entropy, max_depth=3, max_features=sqrt;, score=-0.220 total time=   0.0s\n",
      "[CV 3/3] END criterion=entropy, max_depth=3, max_features=sqrt;, score=-0.248 total time=   0.0s\n",
      "[CV 1/3] END criterion=entropy, max_depth=3, max_features=None;, score=-0.179 total time=   0.0s\n",
      "[CV 2/3] END criterion=entropy, max_depth=3, max_features=None;, score=-0.193 total time=   0.0s\n",
      "[CV 3/3] END criterion=entropy, max_depth=3, max_features=None;, score=-0.153 total time=   0.0s\n",
      "[CV 1/3] END criterion=entropy, max_depth=5, max_features=auto;, score=-0.211 total time=   0.0s\n",
      "[CV 2/3] END criterion=entropy, max_depth=5, max_features=auto;, score=-0.170 total time=   0.0s\n",
      "[CV 3/3] END criterion=entropy, max_depth=5, max_features=auto;, score=-0.189 total time=   0.0s\n",
      "[CV 1/3] END criterion=entropy, max_depth=5, max_features=log2;, score=-0.170 total time=   0.0s\n",
      "[CV 2/3] END criterion=entropy, max_depth=5, max_features=log2;, score=-0.215 total time=   0.0s\n",
      "[CV 3/3] END criterion=entropy, max_depth=5, max_features=log2;, score=-0.212 total time=   0.0s\n",
      "[CV 1/3] END criterion=entropy, max_depth=5, max_features=sqrt;, score=-0.193 total time=   0.0s\n",
      "[CV 2/3] END criterion=entropy, max_depth=5, max_features=sqrt;, score=-0.193 total time=   0.0s\n",
      "[CV 3/3] END criterion=entropy, max_depth=5, max_features=sqrt;, score=-0.180 total time=   0.0s\n",
      "[CV 1/3] END criterion=entropy, max_depth=5, max_features=None;, score=-0.224 total time=   0.0s\n",
      "[CV 2/3] END criterion=entropy, max_depth=5, max_features=None;, score=-0.206 total time=   0.0s\n",
      "[CV 3/3] END criterion=entropy, max_depth=5, max_features=None;, score=-0.216 total time=   0.0s\n",
      "[CV 1/3] END criterion=entropy, max_depth=7, max_features=auto;, score=-0.179 total time=   0.0s\n",
      "[CV 2/3] END criterion=entropy, max_depth=7, max_features=auto;, score=-0.206 total time=   0.0s\n",
      "[CV 3/3] END criterion=entropy, max_depth=7, max_features=auto;, score=-0.185 total time=   0.0s\n",
      "[CV 1/3] END criterion=entropy, max_depth=7, max_features=log2;, score=-0.206 total time=   0.0s\n",
      "[CV 2/3] END criterion=entropy, max_depth=7, max_features=log2;, score=-0.188 total time=   0.0s\n",
      "[CV 3/3] END criterion=entropy, max_depth=7, max_features=log2;, score=-0.180 total time=   0.0s\n",
      "[CV 1/3] END criterion=entropy, max_depth=7, max_features=sqrt;, score=-0.202 total time=   0.0s\n",
      "[CV 2/3] END criterion=entropy, max_depth=7, max_features=sqrt;, score=-0.215 total time=   0.0s\n",
      "[CV 3/3] END criterion=entropy, max_depth=7, max_features=sqrt;, score=-0.225 total time=   0.0s\n",
      "[CV 1/3] END criterion=entropy, max_depth=7, max_features=None;, score=-0.193 total time=   0.0s\n",
      "[CV 2/3] END criterion=entropy, max_depth=7, max_features=None;, score=-0.188 total time=   0.0s\n",
      "[CV 3/3] END criterion=entropy, max_depth=7, max_features=None;, score=-0.225 total time=   0.0s\n",
      "[CV 1/3] END criterion=entropy, max_depth=9, max_features=auto;, score=-0.265 total time=   0.0s\n",
      "[CV 2/3] END criterion=entropy, max_depth=9, max_features=auto;, score=-0.242 total time=   0.0s\n",
      "[CV 3/3] END criterion=entropy, max_depth=9, max_features=auto;, score=-0.252 total time=   0.0s\n",
      "[CV 1/3] END criterion=entropy, max_depth=9, max_features=log2;, score=-0.211 total time=   0.0s\n",
      "[CV 2/3] END criterion=entropy, max_depth=9, max_features=log2;, score=-0.188 total time=   0.0s\n",
      "[CV 3/3] END criterion=entropy, max_depth=9, max_features=log2;, score=-0.203 total time=   0.0s\n",
      "[CV 1/3] END criterion=entropy, max_depth=9, max_features=sqrt;, score=-0.202 total time=   0.0s\n",
      "[CV 2/3] END criterion=entropy, max_depth=9, max_features=sqrt;, score=-0.175 total time=   0.0s\n",
      "[CV 3/3] END criterion=entropy, max_depth=9, max_features=sqrt;, score=-0.207 total time=   0.0s\n",
      "[CV 1/3] END criterion=entropy, max_depth=9, max_features=None;, score=-0.238 total time=   0.0s\n",
      "[CV 2/3] END criterion=entropy, max_depth=9, max_features=None;, score=-0.184 total time=   0.0s\n",
      "[CV 3/3] END criterion=entropy, max_depth=9, max_features=None;, score=-0.221 total time=   0.0s\n",
      "[CV 1/3] END criterion=entropy, max_depth=11, max_features=auto;, score=-0.233 total time=   0.0s\n",
      "[CV 2/3] END criterion=entropy, max_depth=11, max_features=auto;, score=-0.242 total time=   0.0s\n",
      "[CV 3/3] END criterion=entropy, max_depth=11, max_features=auto;, score=-0.230 total time=   0.0s\n",
      "[CV 1/3] END criterion=entropy, max_depth=11, max_features=log2;, score=-0.215 total time=   0.0s\n",
      "[CV 2/3] END criterion=entropy, max_depth=11, max_features=log2;, score=-0.206 total time=   0.0s\n",
      "[CV 3/3] END criterion=entropy, max_depth=11, max_features=log2;, score=-0.207 total time=   0.0s\n",
      "[CV 1/3] END criterion=entropy, max_depth=11, max_features=sqrt;, score=-0.224 total time=   0.0s\n",
      "[CV 2/3] END criterion=entropy, max_depth=11, max_features=sqrt;, score=-0.188 total time=   0.0s\n",
      "[CV 3/3] END criterion=entropy, max_depth=11, max_features=sqrt;, score=-0.212 total time=   0.0s\n",
      "[CV 1/3] END criterion=entropy, max_depth=11, max_features=None;, score=-0.238 total time=   0.0s\n",
      "[CV 2/3] END criterion=entropy, max_depth=11, max_features=None;, score=-0.188 total time=   0.0s\n",
      "[CV 3/3] END criterion=entropy, max_depth=11, max_features=None;, score=-0.216 total time=   0.0s\n",
      "[CV 1/3] END criterion=entropy, max_depth=12, max_features=auto;, score=-0.211 total time=   0.0s\n",
      "[CV 2/3] END criterion=entropy, max_depth=12, max_features=auto;, score=-0.202 total time=   0.0s\n",
      "[CV 3/3] END criterion=entropy, max_depth=12, max_features=auto;, score=-0.216 total time=   0.0s\n",
      "[CV 1/3] END criterion=entropy, max_depth=12, max_features=log2;, score=-0.211 total time=   0.0s\n",
      "[CV 2/3] END criterion=entropy, max_depth=12, max_features=log2;, score=-0.193 total time=   0.0s\n",
      "[CV 3/3] END criterion=entropy, max_depth=12, max_features=log2;, score=-0.212 total time=   0.0s\n",
      "[CV 1/3] END criterion=entropy, max_depth=12, max_features=sqrt;, score=-0.224 total time=   0.0s\n",
      "[CV 2/3] END criterion=entropy, max_depth=12, max_features=sqrt;, score=-0.206 total time=   0.0s\n",
      "[CV 3/3] END criterion=entropy, max_depth=12, max_features=sqrt;, score=-0.221 total time=   0.0s\n",
      "[CV 1/3] END criterion=entropy, max_depth=12, max_features=None;, score=-0.242 total time=   0.0s\n",
      "[CV 2/3] END criterion=entropy, max_depth=12, max_features=None;, score=-0.197 total time=   0.0s\n",
      "[CV 3/3] END criterion=entropy, max_depth=12, max_features=None;, score=-0.225 total time=   0.0s\n",
      "Best: -0.175117 using {'criterion': 'entropy', 'max_depth': 3, 'max_features': None}\n"
     ]
    }
   ],
   "source": [
    "from sklearn.datasets import make_blobs\n",
    "from sklearn.model_selection import RepeatedStratifiedKFold\n",
    "from sklearn.model_selection import GridSearchCV\n",
    "from sklearn.tree import DecisionTreeClassifier\n",
    "\n",
    "# define models and parameters\n",
    "model =  DecisionTreeClassifier()\n",
    "grid={\"criterion\":['gini','entropy'],\"max_depth\" : [1,3,5,7,9,11,12],\"max_features\":[\"auto\",\"log2\",\"sqrt\",None]}\n",
    "\n",
    "grid_search = GridSearchCV(model,param_grid=grid,scoring='neg_mean_squared_error',cv=3,verbose=3,)\n",
    "grid_result = grid_search.fit(X_train, y_train)\n",
    "# summarize results\n",
    "print(\"Best: %f using %s\" % (grid_result.best_score_, grid_result.best_params_))"
   ]
  },
  {
   "cell_type": "code",
   "execution_count": 52,
   "id": "8f8557db",
   "metadata": {},
   "outputs": [
    {
     "name": "stdout",
     "output_type": "stream",
     "text": [
      "DecisionTree\n",
      "Train Accuracy : 0.835\n",
      "Test Accuracy : 0.821\n",
      "Confusion Matrix of Test data:\n"
     ]
    },
    {
     "data": {
      "image/png": "[encoded data removed]",
      "text/plain": [
       "<Figure size 432x288 with 2 Axes>"
      ]
     },
     "metadata": {
      "needs_background": "light"
     },
     "output_type": "display_data"
    },
    {
     "name": "stdout",
     "output_type": "stream",
     "text": [
      "Precision :  0.775\n",
      "Recall/TPR/Sensitivity :  0.738\n"
     ]
    }
   ],
   "source": [
    "train_test_evaluate_model(DecisionTreeClassifier(criterion = 'entropy',max_depth=3,max_features=None),\"DecisionTree\")"
   ]
  },
  {
   "cell_type": "markdown",
   "id": "ab9a1b68",
   "metadata": {},
   "source": [
    "# Gaussian Naive Bayes"
   ]
  },
  {
   "cell_type": "code",
   "execution_count": 53,
   "id": "688c131d",
   "metadata": {},
   "outputs": [
    {
     "name": "stdout",
     "output_type": "stream",
     "text": [
      "Fitting 10 folds for each of 100 candidates, totalling 1000 fits\n",
      "GaussianNB(var_smoothing=0.04328761281083057)\n"
     ]
    }
   ],
   "source": [
    "from sklearn.datasets import make_blobs\n",
    "from sklearn.model_selection import RepeatedStratifiedKFold\n",
    "from sklearn.model_selection import GridSearchCV\n",
    "from sklearn.naive_bayes import GaussianNB\n",
    "\n",
    "# define models and parameters\n",
    "model = GaussianNB()\n",
    "# define grid search\n",
    "grid = {'var_smoothing': np.logspace(0,-9, num=100)}\n",
    "grid_search = GridSearchCV(model, param_grid=grid, verbose=1, cv=10, n_jobs=-1)\n",
    "grid_result = grid_search.fit(X_train, y_train)\n",
    "print(grid_search.best_estimator_)"
   ]
  },
  {
   "cell_type": "code",
   "execution_count": 54,
   "id": "a40e43ac",
   "metadata": {},
   "outputs": [
    {
     "name": "stdout",
     "output_type": "stream",
     "text": [
      "GaussianNB\n",
      "Train Accuracy : 0.817\n",
      "Test Accuracy : 0.789\n",
      "Confusion Matrix of Test data:\n"
     ]
    },
    {
     "data": {
      "image/png": "[encoded data removed]",
      "text/plain": [
       "<Figure size 432x288 with 2 Axes>"
      ]
     },
     "metadata": {
      "needs_background": "light"
     },
     "output_type": "display_data"
    },
    {
     "name": "stdout",
     "output_type": "stream",
     "text": [
      "Precision :  0.695\n",
      "Recall/TPR/Sensitivity :  0.786\n"
     ]
    }
   ],
   "source": [
    "train_test_evaluate_model(GaussianNB(var_smoothing=0.04328761281083057),\"GaussianNB\")"
   ]
  },
  {
   "cell_type": "code",
   "execution_count": 55,
   "id": "e46d5dfd",
   "metadata": {},
   "outputs": [
    {
     "data": {
      "text/html": [
       "<div>\n",
       "<style scoped>\n",
       "    .dataframe tbody tr th:only-of-type {\n",
       "        vertical-align: middle;\n",
       "    }\n",
       "\n",
       "    .dataframe tbody tr th {\n",
       "        vertical-align: top;\n",
       "    }\n",
       "\n",
       "    .dataframe thead th {\n",
       "        text-align: right;\n",
       "    }\n",
       "</style>\n",
       "<table border=\"1\" class=\"dataframe\">\n",
       "  <thead>\n",
       "    <tr style=\"text-align: right;\">\n",
       "      <th></th>\n",
       "      <th>Name</th>\n",
       "      <th>train_accuracy</th>\n",
       "      <th>test_accuracy</th>\n",
       "    </tr>\n",
       "  </thead>\n",
       "  <tbody>\n",
       "    <tr>\n",
       "      <th>0</th>\n",
       "      <td>LogisticRegression</td>\n",
       "      <td>0.831</td>\n",
       "      <td>0.789</td>\n",
       "    </tr>\n",
       "    <tr>\n",
       "      <th>1</th>\n",
       "      <td>KNN</td>\n",
       "      <td>0.835</td>\n",
       "      <td>0.816</td>\n",
       "    </tr>\n",
       "    <tr>\n",
       "      <th>2</th>\n",
       "      <td>RandomForest</td>\n",
       "      <td>0.864</td>\n",
       "      <td>0.834</td>\n",
       "    </tr>\n",
       "    <tr>\n",
       "      <th>3</th>\n",
       "      <td>DecisionTree</td>\n",
       "      <td>0.835</td>\n",
       "      <td>0.821</td>\n",
       "    </tr>\n",
       "    <tr>\n",
       "      <th>4</th>\n",
       "      <td>GaussianNB</td>\n",
       "      <td>0.817</td>\n",
       "      <td>0.789</td>\n",
       "    </tr>\n",
       "  </tbody>\n",
       "</table>\n",
       "</div>"
      ],
      "text/plain": [
       "                 Name  train_accuracy  test_accuracy\n",
       "0  LogisticRegression           0.831          0.789\n",
       "1                 KNN           0.835          0.816\n",
       "2        RandomForest           0.864          0.834\n",
       "3        DecisionTree           0.835          0.821\n",
       "4          GaussianNB           0.817          0.789"
      ]
     },
     "execution_count": 55,
     "metadata": {},
     "output_type": "execute_result"
    }
   ],
   "source": [
    "Result"
   ]
  },
  {
   "cell_type": "markdown",
   "id": "5e3a5e7f",
   "metadata": {},
   "source": [
    "# K-Fold Cross Validation"
   ]
  },
  {
   "cell_type": "code",
   "execution_count": 56,
   "id": "c0c9e59d",
   "metadata": {},
   "outputs": [
    {
     "name": "stdout",
     "output_type": "stream",
     "text": [
      "Scores: [0.811 0.865 0.708 0.876 0.876 0.82  0.843 0.775 0.843 0.843]\n",
      "Mean: 0.826\n",
      "Standard Deviation: 0.049\n"
     ]
    }
   ],
   "source": [
    "#Considering RandomForest model, as train and test accuracy are close and high\n",
    "from sklearn.model_selection import cross_val_score\n",
    "RFC = RandomForestClassifier(criterion='gini',min_samples_leaf = 1, min_samples_split=12, n_estimators= 700)\n",
    "scores = cross_val_score(RFC, X, y, cv=10, scoring = \"accuracy\")\n",
    "print(\"Scores:\", np.round(scores,3))\n",
    "print(\"Mean:\", round(scores.mean(),3))\n",
    "print(\"Standard Deviation:\", round(scores.std(),3))"
   ]
  },
  {
   "cell_type": "code",
   "execution_count": null,
   "id": "b0f9553d",
   "metadata": {},
   "outputs": [],
   "source": []
  }
 ],
 "metadata": {
  "kernelspec": {
   "display_name": "Python 3 (ipykernel)",
   "language": "python",
   "name": "python3"
  },
  "language_info": {
   "codemirror_mode": {
    "name": "ipython",
    "version": 3
   },
   "file_extension": ".py",
   "mimetype": "text/x-python",
   "name": "python",
   "nbconvert_exporter": "python",
   "pygments_lexer": "ipython3",
   "version": "3.9.7"
  }
 },
 "nbformat": 4,
 "nbformat_minor": 5
}
